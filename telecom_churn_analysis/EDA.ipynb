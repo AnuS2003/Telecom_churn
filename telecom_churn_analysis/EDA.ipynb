{
 "cells": [
  {
   "cell_type": "markdown",
   "id": "40504f0c-226b-4c61-8385-b70aabed51bc",
   "metadata": {},
   "source": [
    "<h3>Predicting Customer Churn in Telecommunication Industry</h3>\n",
    "\n",
    "<h4>Problem Statement:</h4>\n",
    "Customer retention is challenge for sustained growth and profitability. With increasing competition and changing customer preferences, it is essential for telecommunication companies to proactively identify and retain customers at risk of churning.\n",
    "\n",
    "<h4>Research Statement </h4>\n",
    "Develop a data analytics model to predict customer churn in a telecommunications company using historical data and customer attributes, aiming to implement proactive retention strategies and minimize churn rates"
   ]
  },
  {
   "cell_type": "code",
   "execution_count": 1,
   "id": "944aa6f5-e305-4228-ad9a-b6b8561f224d",
   "metadata": {},
   "outputs": [],
   "source": [
    "import pandas as pd\n",
    "import matplotlib.pyplot as plt\n",
    "%matplotlib inline\n",
    "import seaborn as sns\n",
    "import warnings\n",
    "warnings.filterwarnings('ignore')"
   ]
  },
  {
   "cell_type": "code",
   "execution_count": 2,
   "id": "47cb37fe-63a7-4fe5-af85-052bfd913b2b",
   "metadata": {},
   "outputs": [
    {
     "data": {
      "text/html": [
       "<div>\n",
       "<style scoped>\n",
       "    .dataframe tbody tr th:only-of-type {\n",
       "        vertical-align: middle;\n",
       "    }\n",
       "\n",
       "    .dataframe tbody tr th {\n",
       "        vertical-align: top;\n",
       "    }\n",
       "\n",
       "    .dataframe thead th {\n",
       "        text-align: right;\n",
       "    }\n",
       "</style>\n",
       "<table border=\"1\" class=\"dataframe\">\n",
       "  <thead>\n",
       "    <tr style=\"text-align: right;\">\n",
       "      <th></th>\n",
       "      <th>Customer ID</th>\n",
       "      <th>Gender</th>\n",
       "      <th>Age</th>\n",
       "      <th>Married</th>\n",
       "      <th>Number of Dependents</th>\n",
       "      <th>City</th>\n",
       "      <th>Zip Code</th>\n",
       "      <th>Latitude</th>\n",
       "      <th>Longitude</th>\n",
       "      <th>Number of Referrals</th>\n",
       "      <th>...</th>\n",
       "      <th>Payment Method</th>\n",
       "      <th>Monthly Charge</th>\n",
       "      <th>Total Charges</th>\n",
       "      <th>Total Refunds</th>\n",
       "      <th>Total Extra Data Charges</th>\n",
       "      <th>Total Long Distance Charges</th>\n",
       "      <th>Total Revenue</th>\n",
       "      <th>Customer Status</th>\n",
       "      <th>Churn Category</th>\n",
       "      <th>Churn Reason</th>\n",
       "    </tr>\n",
       "  </thead>\n",
       "  <tbody>\n",
       "    <tr>\n",
       "      <th>0</th>\n",
       "      <td>0002-ORFBO</td>\n",
       "      <td>Female</td>\n",
       "      <td>37</td>\n",
       "      <td>Yes</td>\n",
       "      <td>0</td>\n",
       "      <td>Frazier Park</td>\n",
       "      <td>93225</td>\n",
       "      <td>34.827662</td>\n",
       "      <td>-118.999073</td>\n",
       "      <td>2</td>\n",
       "      <td>...</td>\n",
       "      <td>Credit Card</td>\n",
       "      <td>65.6</td>\n",
       "      <td>593.30</td>\n",
       "      <td>0.00</td>\n",
       "      <td>0</td>\n",
       "      <td>381.51</td>\n",
       "      <td>974.81</td>\n",
       "      <td>Stayed</td>\n",
       "      <td>NaN</td>\n",
       "      <td>NaN</td>\n",
       "    </tr>\n",
       "    <tr>\n",
       "      <th>1</th>\n",
       "      <td>0003-MKNFE</td>\n",
       "      <td>Male</td>\n",
       "      <td>46</td>\n",
       "      <td>No</td>\n",
       "      <td>0</td>\n",
       "      <td>Glendale</td>\n",
       "      <td>91206</td>\n",
       "      <td>34.162515</td>\n",
       "      <td>-118.203869</td>\n",
       "      <td>0</td>\n",
       "      <td>...</td>\n",
       "      <td>Credit Card</td>\n",
       "      <td>-4.0</td>\n",
       "      <td>542.40</td>\n",
       "      <td>38.33</td>\n",
       "      <td>10</td>\n",
       "      <td>96.21</td>\n",
       "      <td>610.28</td>\n",
       "      <td>Stayed</td>\n",
       "      <td>NaN</td>\n",
       "      <td>NaN</td>\n",
       "    </tr>\n",
       "    <tr>\n",
       "      <th>2</th>\n",
       "      <td>0004-TLHLJ</td>\n",
       "      <td>Male</td>\n",
       "      <td>50</td>\n",
       "      <td>No</td>\n",
       "      <td>0</td>\n",
       "      <td>Costa Mesa</td>\n",
       "      <td>92627</td>\n",
       "      <td>33.645672</td>\n",
       "      <td>-117.922613</td>\n",
       "      <td>0</td>\n",
       "      <td>...</td>\n",
       "      <td>Bank Withdrawal</td>\n",
       "      <td>73.9</td>\n",
       "      <td>280.85</td>\n",
       "      <td>0.00</td>\n",
       "      <td>0</td>\n",
       "      <td>134.60</td>\n",
       "      <td>415.45</td>\n",
       "      <td>Churned</td>\n",
       "      <td>Competitor</td>\n",
       "      <td>Competitor had better devices</td>\n",
       "    </tr>\n",
       "    <tr>\n",
       "      <th>3</th>\n",
       "      <td>0011-IGKFF</td>\n",
       "      <td>Male</td>\n",
       "      <td>78</td>\n",
       "      <td>Yes</td>\n",
       "      <td>0</td>\n",
       "      <td>Martinez</td>\n",
       "      <td>94553</td>\n",
       "      <td>38.014457</td>\n",
       "      <td>-122.115432</td>\n",
       "      <td>1</td>\n",
       "      <td>...</td>\n",
       "      <td>Bank Withdrawal</td>\n",
       "      <td>98.0</td>\n",
       "      <td>1237.85</td>\n",
       "      <td>0.00</td>\n",
       "      <td>0</td>\n",
       "      <td>361.66</td>\n",
       "      <td>1599.51</td>\n",
       "      <td>Churned</td>\n",
       "      <td>Dissatisfaction</td>\n",
       "      <td>Product dissatisfaction</td>\n",
       "    </tr>\n",
       "    <tr>\n",
       "      <th>4</th>\n",
       "      <td>0013-EXCHZ</td>\n",
       "      <td>Female</td>\n",
       "      <td>75</td>\n",
       "      <td>Yes</td>\n",
       "      <td>0</td>\n",
       "      <td>Camarillo</td>\n",
       "      <td>93010</td>\n",
       "      <td>34.227846</td>\n",
       "      <td>-119.079903</td>\n",
       "      <td>3</td>\n",
       "      <td>...</td>\n",
       "      <td>Credit Card</td>\n",
       "      <td>83.9</td>\n",
       "      <td>267.40</td>\n",
       "      <td>0.00</td>\n",
       "      <td>0</td>\n",
       "      <td>22.14</td>\n",
       "      <td>289.54</td>\n",
       "      <td>Churned</td>\n",
       "      <td>Dissatisfaction</td>\n",
       "      <td>Network reliability</td>\n",
       "    </tr>\n",
       "  </tbody>\n",
       "</table>\n",
       "<p>5 rows × 38 columns</p>\n",
       "</div>"
      ],
      "text/plain": [
       "  Customer ID  Gender  Age Married  Number of Dependents          City  \\\n",
       "0  0002-ORFBO  Female   37     Yes                     0  Frazier Park   \n",
       "1  0003-MKNFE    Male   46      No                     0      Glendale   \n",
       "2  0004-TLHLJ    Male   50      No                     0    Costa Mesa   \n",
       "3  0011-IGKFF    Male   78     Yes                     0      Martinez   \n",
       "4  0013-EXCHZ  Female   75     Yes                     0     Camarillo   \n",
       "\n",
       "   Zip Code   Latitude   Longitude  Number of Referrals  ...   Payment Method  \\\n",
       "0     93225  34.827662 -118.999073                    2  ...      Credit Card   \n",
       "1     91206  34.162515 -118.203869                    0  ...      Credit Card   \n",
       "2     92627  33.645672 -117.922613                    0  ...  Bank Withdrawal   \n",
       "3     94553  38.014457 -122.115432                    1  ...  Bank Withdrawal   \n",
       "4     93010  34.227846 -119.079903                    3  ...      Credit Card   \n",
       "\n",
       "  Monthly Charge Total Charges  Total Refunds Total Extra Data Charges  \\\n",
       "0           65.6        593.30           0.00                        0   \n",
       "1           -4.0        542.40          38.33                       10   \n",
       "2           73.9        280.85           0.00                        0   \n",
       "3           98.0       1237.85           0.00                        0   \n",
       "4           83.9        267.40           0.00                        0   \n",
       "\n",
       "  Total Long Distance Charges Total Revenue  Customer Status   Churn Category  \\\n",
       "0                      381.51        974.81           Stayed              NaN   \n",
       "1                       96.21        610.28           Stayed              NaN   \n",
       "2                      134.60        415.45          Churned       Competitor   \n",
       "3                      361.66       1599.51          Churned  Dissatisfaction   \n",
       "4                       22.14        289.54          Churned  Dissatisfaction   \n",
       "\n",
       "                    Churn Reason  \n",
       "0                            NaN  \n",
       "1                            NaN  \n",
       "2  Competitor had better devices  \n",
       "3        Product dissatisfaction  \n",
       "4            Network reliability  \n",
       "\n",
       "[5 rows x 38 columns]"
      ]
     },
     "execution_count": 2,
     "metadata": {},
     "output_type": "execute_result"
    }
   ],
   "source": [
    "churn_df = pd.read_csv('telecom_customer_churn.csv')\n",
    "churn_df.head()"
   ]
  },
  {
   "cell_type": "code",
   "execution_count": 3,
   "id": "b778057b-05f2-4283-8318-42353aa3223b",
   "metadata": {},
   "outputs": [
    {
     "data": {
      "text/plain": [
       "array([nan, 'Competitor', 'Dissatisfaction', 'Other', 'Price', 'Attitude'],\n",
       "      dtype=object)"
      ]
     },
     "execution_count": 3,
     "metadata": {},
     "output_type": "execute_result"
    }
   ],
   "source": [
    "churn_df['Churn Category'].unique()"
   ]
  },
  {
   "cell_type": "code",
   "execution_count": 4,
   "id": "e30c5f1c-c2bf-4595-b7df-75f028f89777",
   "metadata": {},
   "outputs": [
    {
     "data": {
      "text/plain": [
       "array([nan, 'Competitor had better devices', 'Product dissatisfaction',\n",
       "       'Network reliability', 'Limited range of services',\n",
       "       'Competitor made better offer', \"Don't know\",\n",
       "       'Long distance charges', 'Attitude of service provider',\n",
       "       'Attitude of support person',\n",
       "       'Competitor offered higher download speeds',\n",
       "       'Competitor offered more data',\n",
       "       'Lack of affordable download/upload speed', 'Deceased', 'Moved',\n",
       "       'Service dissatisfaction', 'Price too high',\n",
       "       'Lack of self-service on Website',\n",
       "       'Poor expertise of online support', 'Extra data charges',\n",
       "       'Poor expertise of phone support'], dtype=object)"
      ]
     },
     "execution_count": 4,
     "metadata": {},
     "output_type": "execute_result"
    }
   ],
   "source": [
    "churn_df['Churn Reason'].unique()"
   ]
  },
  {
   "cell_type": "code",
   "execution_count": 5,
   "id": "46ef0fc1-5303-4803-963b-225a2ff9bf6d",
   "metadata": {},
   "outputs": [
    {
     "data": {
      "text/plain": [
       "Index(['Customer ID', 'Gender', 'Age', 'Married', 'Number of Dependents',\n",
       "       'City', 'Zip Code', 'Latitude', 'Longitude', 'Number of Referrals',\n",
       "       'Tenure in Months', 'Offer', 'Phone Service',\n",
       "       'Avg Monthly Long Distance Charges', 'Multiple Lines',\n",
       "       'Internet Service', 'Internet Type', 'Avg Monthly GB Download',\n",
       "       'Online Security', 'Online Backup', 'Device Protection Plan',\n",
       "       'Premium Tech Support', 'Streaming TV', 'Streaming Movies',\n",
       "       'Streaming Music', 'Unlimited Data', 'Contract', 'Paperless Billing',\n",
       "       'Payment Method', 'Monthly Charge', 'Total Charges', 'Total Refunds',\n",
       "       'Total Extra Data Charges', 'Total Long Distance Charges',\n",
       "       'Total Revenue', 'Customer Status', 'Churn Category', 'Churn Reason'],\n",
       "      dtype='object')"
      ]
     },
     "execution_count": 5,
     "metadata": {},
     "output_type": "execute_result"
    }
   ],
   "source": [
    "churn_df.columns"
   ]
  },
  {
   "cell_type": "code",
   "execution_count": 6,
   "id": "3dd210d7-c815-4a72-8061-0eb3abb22dfe",
   "metadata": {},
   "outputs": [
    {
     "data": {
      "text/html": [
       "<div>\n",
       "<style scoped>\n",
       "    .dataframe tbody tr th:only-of-type {\n",
       "        vertical-align: middle;\n",
       "    }\n",
       "\n",
       "    .dataframe tbody tr th {\n",
       "        vertical-align: top;\n",
       "    }\n",
       "\n",
       "    .dataframe thead th {\n",
       "        text-align: right;\n",
       "    }\n",
       "</style>\n",
       "<table border=\"1\" class=\"dataframe\">\n",
       "  <thead>\n",
       "    <tr style=\"text-align: right;\">\n",
       "      <th></th>\n",
       "      <th>Zip Code</th>\n",
       "      <th>Population</th>\n",
       "    </tr>\n",
       "  </thead>\n",
       "  <tbody>\n",
       "    <tr>\n",
       "      <th>0</th>\n",
       "      <td>90001</td>\n",
       "      <td>54492</td>\n",
       "    </tr>\n",
       "    <tr>\n",
       "      <th>1</th>\n",
       "      <td>90002</td>\n",
       "      <td>44586</td>\n",
       "    </tr>\n",
       "    <tr>\n",
       "      <th>2</th>\n",
       "      <td>90003</td>\n",
       "      <td>58198</td>\n",
       "    </tr>\n",
       "    <tr>\n",
       "      <th>3</th>\n",
       "      <td>90004</td>\n",
       "      <td>67852</td>\n",
       "    </tr>\n",
       "    <tr>\n",
       "      <th>4</th>\n",
       "      <td>90005</td>\n",
       "      <td>43019</td>\n",
       "    </tr>\n",
       "  </tbody>\n",
       "</table>\n",
       "</div>"
      ],
      "text/plain": [
       "   Zip Code  Population\n",
       "0     90001       54492\n",
       "1     90002       44586\n",
       "2     90003       58198\n",
       "3     90004       67852\n",
       "4     90005       43019"
      ]
     },
     "execution_count": 6,
     "metadata": {},
     "output_type": "execute_result"
    }
   ],
   "source": [
    "directory_df = pd.read_csv('telecom_zipcode_population.csv',encoding='latin-1')\n",
    "directory_df.head()"
   ]
  },
  {
   "cell_type": "markdown",
   "id": "4ec93ffc-2ad4-4ee7-860a-905df4ad8efa",
   "metadata": {},
   "source": [
    "<h5>Exploratory data analysis</h5>"
   ]
  },
  {
   "cell_type": "code",
   "execution_count": 7,
   "id": "bd96dddb-8968-4223-8cf4-188b7f445329",
   "metadata": {},
   "outputs": [
    {
     "data": {
      "text/plain": [
       "(1671, 2)"
      ]
     },
     "execution_count": 7,
     "metadata": {},
     "output_type": "execute_result"
    }
   ],
   "source": [
    "directory_df.shape"
   ]
  },
  {
   "cell_type": "code",
   "execution_count": 8,
   "id": "ed2e2443-fc6f-4999-85cb-d2ca633005e7",
   "metadata": {},
   "outputs": [
    {
     "data": {
      "text/plain": [
       "(7043, 38)"
      ]
     },
     "execution_count": 8,
     "metadata": {},
     "output_type": "execute_result"
    }
   ],
   "source": [
    "churn_df.shape"
   ]
  },
  {
   "cell_type": "code",
   "execution_count": 9,
   "id": "67fc94a7-96ef-407a-b413-afbd1e9e6885",
   "metadata": {},
   "outputs": [
    {
     "data": {
      "text/html": [
       "<div>\n",
       "<style scoped>\n",
       "    .dataframe tbody tr th:only-of-type {\n",
       "        vertical-align: middle;\n",
       "    }\n",
       "\n",
       "    .dataframe tbody tr th {\n",
       "        vertical-align: top;\n",
       "    }\n",
       "\n",
       "    .dataframe thead th {\n",
       "        text-align: right;\n",
       "    }\n",
       "</style>\n",
       "<table border=\"1\" class=\"dataframe\">\n",
       "  <thead>\n",
       "    <tr style=\"text-align: right;\">\n",
       "      <th></th>\n",
       "      <th>Tenure in Months</th>\n",
       "      <th>Offer</th>\n",
       "      <th>Monthly Charge</th>\n",
       "      <th>Total Charges</th>\n",
       "      <th>Internet Service</th>\n",
       "      <th>Online Security</th>\n",
       "      <th>Online Backup</th>\n",
       "      <th>Device Protection Plan</th>\n",
       "      <th>Premium Tech Support</th>\n",
       "      <th>Contract</th>\n",
       "      <th>Paperless Billing</th>\n",
       "      <th>Churn Reason</th>\n",
       "      <th>Customer Status</th>\n",
       "      <th>Churn Category</th>\n",
       "    </tr>\n",
       "  </thead>\n",
       "  <tbody>\n",
       "    <tr>\n",
       "      <th>0</th>\n",
       "      <td>9</td>\n",
       "      <td>NaN</td>\n",
       "      <td>65.6</td>\n",
       "      <td>593.30</td>\n",
       "      <td>Yes</td>\n",
       "      <td>No</td>\n",
       "      <td>Yes</td>\n",
       "      <td>No</td>\n",
       "      <td>Yes</td>\n",
       "      <td>One Year</td>\n",
       "      <td>Yes</td>\n",
       "      <td>NaN</td>\n",
       "      <td>Stayed</td>\n",
       "      <td>NaN</td>\n",
       "    </tr>\n",
       "    <tr>\n",
       "      <th>1</th>\n",
       "      <td>9</td>\n",
       "      <td>NaN</td>\n",
       "      <td>-4.0</td>\n",
       "      <td>542.40</td>\n",
       "      <td>Yes</td>\n",
       "      <td>No</td>\n",
       "      <td>No</td>\n",
       "      <td>No</td>\n",
       "      <td>No</td>\n",
       "      <td>Month-to-Month</td>\n",
       "      <td>No</td>\n",
       "      <td>NaN</td>\n",
       "      <td>Stayed</td>\n",
       "      <td>NaN</td>\n",
       "    </tr>\n",
       "    <tr>\n",
       "      <th>2</th>\n",
       "      <td>4</td>\n",
       "      <td>Offer E</td>\n",
       "      <td>73.9</td>\n",
       "      <td>280.85</td>\n",
       "      <td>Yes</td>\n",
       "      <td>No</td>\n",
       "      <td>No</td>\n",
       "      <td>Yes</td>\n",
       "      <td>No</td>\n",
       "      <td>Month-to-Month</td>\n",
       "      <td>Yes</td>\n",
       "      <td>Competitor had better devices</td>\n",
       "      <td>Churned</td>\n",
       "      <td>Competitor</td>\n",
       "    </tr>\n",
       "    <tr>\n",
       "      <th>3</th>\n",
       "      <td>13</td>\n",
       "      <td>Offer D</td>\n",
       "      <td>98.0</td>\n",
       "      <td>1237.85</td>\n",
       "      <td>Yes</td>\n",
       "      <td>No</td>\n",
       "      <td>Yes</td>\n",
       "      <td>Yes</td>\n",
       "      <td>No</td>\n",
       "      <td>Month-to-Month</td>\n",
       "      <td>Yes</td>\n",
       "      <td>Product dissatisfaction</td>\n",
       "      <td>Churned</td>\n",
       "      <td>Dissatisfaction</td>\n",
       "    </tr>\n",
       "    <tr>\n",
       "      <th>4</th>\n",
       "      <td>3</td>\n",
       "      <td>NaN</td>\n",
       "      <td>83.9</td>\n",
       "      <td>267.40</td>\n",
       "      <td>Yes</td>\n",
       "      <td>No</td>\n",
       "      <td>No</td>\n",
       "      <td>No</td>\n",
       "      <td>Yes</td>\n",
       "      <td>Month-to-Month</td>\n",
       "      <td>Yes</td>\n",
       "      <td>Network reliability</td>\n",
       "      <td>Churned</td>\n",
       "      <td>Dissatisfaction</td>\n",
       "    </tr>\n",
       "  </tbody>\n",
       "</table>\n",
       "</div>"
      ],
      "text/plain": [
       "   Tenure in Months    Offer  Monthly Charge  Total Charges Internet Service  \\\n",
       "0                 9      NaN            65.6         593.30              Yes   \n",
       "1                 9      NaN            -4.0         542.40              Yes   \n",
       "2                 4  Offer E            73.9         280.85              Yes   \n",
       "3                13  Offer D            98.0        1237.85              Yes   \n",
       "4                 3      NaN            83.9         267.40              Yes   \n",
       "\n",
       "  Online Security Online Backup Device Protection Plan Premium Tech Support  \\\n",
       "0              No           Yes                     No                  Yes   \n",
       "1              No            No                     No                   No   \n",
       "2              No            No                    Yes                   No   \n",
       "3              No           Yes                    Yes                   No   \n",
       "4              No            No                     No                  Yes   \n",
       "\n",
       "         Contract Paperless Billing                   Churn Reason  \\\n",
       "0        One Year               Yes                            NaN   \n",
       "1  Month-to-Month                No                            NaN   \n",
       "2  Month-to-Month               Yes  Competitor had better devices   \n",
       "3  Month-to-Month               Yes        Product dissatisfaction   \n",
       "4  Month-to-Month               Yes            Network reliability   \n",
       "\n",
       "  Customer Status   Churn Category  \n",
       "0          Stayed              NaN  \n",
       "1          Stayed              NaN  \n",
       "2         Churned       Competitor  \n",
       "3         Churned  Dissatisfaction  \n",
       "4         Churned  Dissatisfaction  "
      ]
     },
     "execution_count": 9,
     "metadata": {},
     "output_type": "execute_result"
    }
   ],
   "source": [
    "key_attributes = ['Tenure in Months','Offer','Monthly Charge','Total Charges','Internet Service','Online Security',\n",
    "    'Online Backup','Device Protection Plan','Premium Tech Support','Contract','Paperless Billing','Churn Reason','Customer Status', 'Churn Category'\n",
    "]\n",
    "churn_key_attributes = churn_df[key_attributes].copy()\n",
    "churn_key_df = pd.DataFrame(churn_key_attributes)\n",
    "churn_key_df.head()"
   ]
  },
  {
   "cell_type": "code",
   "execution_count": 10,
   "id": "8034fa33-d6a4-4b15-b9ed-62f840afe3a7",
   "metadata": {},
   "outputs": [
    {
     "name": "stdout",
     "output_type": "stream",
     "text": [
      "<class 'pandas.core.frame.DataFrame'>\n",
      "RangeIndex: 7043 entries, 0 to 7042\n",
      "Data columns (total 14 columns):\n",
      " #   Column                  Non-Null Count  Dtype  \n",
      "---  ------                  --------------  -----  \n",
      " 0   Tenure in Months        7043 non-null   int64  \n",
      " 1   Offer                   3166 non-null   object \n",
      " 2   Monthly Charge          7043 non-null   float64\n",
      " 3   Total Charges           7043 non-null   float64\n",
      " 4   Internet Service        7043 non-null   object \n",
      " 5   Online Security         5517 non-null   object \n",
      " 6   Online Backup           5517 non-null   object \n",
      " 7   Device Protection Plan  5517 non-null   object \n",
      " 8   Premium Tech Support    5517 non-null   object \n",
      " 9   Contract                7043 non-null   object \n",
      " 10  Paperless Billing       7043 non-null   object \n",
      " 11  Churn Reason            1869 non-null   object \n",
      " 12  Customer Status         7043 non-null   object \n",
      " 13  Churn Category          1869 non-null   object \n",
      "dtypes: float64(2), int64(1), object(11)\n",
      "memory usage: 770.5+ KB\n"
     ]
    }
   ],
   "source": [
    "churn_key_df.info()"
   ]
  },
  {
   "cell_type": "code",
   "execution_count": 11,
   "id": "850b2d88-ff3d-4e4d-a1aa-6fa5d761e625",
   "metadata": {},
   "outputs": [
    {
     "name": "stdout",
     "output_type": "stream",
     "text": [
      "Tenure in Months             int64\n",
      "Offer                     category\n",
      "Monthly Charge             float64\n",
      "Total Charges                int64\n",
      "Internet Service          category\n",
      "Online Security           category\n",
      "Online Backup             category\n",
      "Device Protection Plan    category\n",
      "Premium Tech Support      category\n",
      "Contract                  category\n",
      "Paperless Billing         category\n",
      "Churn Reason              category\n",
      "Customer Status           category\n",
      "Churn Category            category\n",
      "dtype: object\n"
     ]
    }
   ],
   "source": [
    "categorical_cols = ['Offer', 'Internet Service', 'Online Security', 'Online Backup',\n",
    "                    'Device Protection Plan', 'Premium Tech Support', 'Contract', \n",
    "                    'Paperless Billing', 'Churn Reason','Customer Status', 'Churn Category']\n",
    "churn_key_attributes[categorical_cols] = churn_key_attributes[categorical_cols].astype('category')\n",
    "churn_key_attributes['Total Charges'] = churn_key_attributes['Total Charges'].astype('int64')\n",
    "print(churn_key_attributes.dtypes)\n"
   ]
  },
  {
   "cell_type": "code",
   "execution_count": 12,
   "id": "0006b71f-2c28-48f8-9f54-fbe2df2db9ea",
   "metadata": {},
   "outputs": [
    {
     "data": {
      "text/plain": [
       "Tenure in Months             0\n",
       "Offer                     3877\n",
       "Monthly Charge               0\n",
       "Total Charges                0\n",
       "Internet Service             0\n",
       "Online Security           1526\n",
       "Online Backup             1526\n",
       "Device Protection Plan    1526\n",
       "Premium Tech Support      1526\n",
       "Contract                     0\n",
       "Paperless Billing            0\n",
       "Churn Reason              5174\n",
       "Customer Status              0\n",
       "Churn Category            5174\n",
       "dtype: int64"
      ]
     },
     "execution_count": 12,
     "metadata": {},
     "output_type": "execute_result"
    }
   ],
   "source": [
    "churn_key_df.isnull().sum()"
   ]
  },
  {
   "cell_type": "code",
   "execution_count": 13,
   "id": "fc4cfac8-f33c-4be2-9f54-0090813802c5",
   "metadata": {},
   "outputs": [
    {
     "name": "stdout",
     "output_type": "stream",
     "text": [
      "Offer                  :  55.047564958114435\n",
      "Online Security        :  21.666903308249324\n",
      "Online Backup          :  21.666903308249324\n",
      "Device Protection Plan :  21.666903308249324\n",
      "Premium Tech Support   :  21.666903308249324\n",
      "Churn Reason           :  73.4630129206304\n",
      "Churn Category         :  73.4630129206304\n"
     ]
    }
   ],
   "source": [
    "print('Offer                  : ',(3877/len(churn_key_df))*100)\n",
    "print('Online Security        : ',(1526/len(churn_key_df))*100)\n",
    "print('Online Backup          : ',(1526/len(churn_key_df))*100)\n",
    "print('Device Protection Plan : ',(1526/len(churn_key_df))*100)\n",
    "print('Premium Tech Support   : ',(1526/len(churn_key_df))*100)\n",
    "print('Churn Reason           : ',(5174/len(churn_key_df))*100)\n",
    "print('Churn Category         : ',(5174/len(churn_key_df))*100)"
   ]
  },
  {
   "cell_type": "code",
   "execution_count": 14,
   "id": "87bc5c4c-caf9-43bb-85d1-9c9fea43f17a",
   "metadata": {},
   "outputs": [],
   "source": [
    "# Imputation for numerical columns\n",
    "numerical_cols = ['Tenure in Months', 'Monthly Charge', 'Total Charges']\n",
    "for col in numerical_cols:\n",
    "    churn_key_df[col].fillna(churn_key_df[col].mean(), inplace=True)\n",
    "\n",
    "# Imputation for categorical columns\n",
    "categorical_cols = ['Offer', 'Internet Service', 'Online Security', 'Online Backup', \n",
    "                    'Device Protection Plan', 'Premium Tech Support', 'Contract', 'Paperless Billing']\n",
    "for col in categorical_cols:\n",
    "    churn_key_df[col].fillna(churn_key_df[col].mode()[0], inplace=True)\n",
    "\n",
    "# Drop 'Churn Reason' column if it exists\n",
    "if 'Churn Reason' in churn_key_df.columns:\n",
    "    churn_key_df.drop(columns=['Churn Reason'], inplace=True)\n",
    "if 'Churn Category' in churn_key_df.columns:\n",
    "    churn_key_df.drop(columns=['Churn Category'], inplace=True)"
   ]
  },
  {
   "cell_type": "code",
   "execution_count": 15,
   "id": "4e380d06-d40c-4fc9-ab1e-c31d84819ebb",
   "metadata": {},
   "outputs": [
    {
     "data": {
      "text/plain": [
       "Tenure in Months          0\n",
       "Offer                     0\n",
       "Monthly Charge            0\n",
       "Total Charges             0\n",
       "Internet Service          0\n",
       "Online Security           0\n",
       "Online Backup             0\n",
       "Device Protection Plan    0\n",
       "Premium Tech Support      0\n",
       "Contract                  0\n",
       "Paperless Billing         0\n",
       "Customer Status           0\n",
       "dtype: int64"
      ]
     },
     "execution_count": 15,
     "metadata": {},
     "output_type": "execute_result"
    }
   ],
   "source": [
    "churn_key_df.isnull().sum()"
   ]
  },
  {
   "cell_type": "code",
   "execution_count": 16,
   "id": "8b45ceaf-0b48-4941-afcf-69520a802d8b",
   "metadata": {},
   "outputs": [
    {
     "data": {
      "text/html": [
       "<div>\n",
       "<style scoped>\n",
       "    .dataframe tbody tr th:only-of-type {\n",
       "        vertical-align: middle;\n",
       "    }\n",
       "\n",
       "    .dataframe tbody tr th {\n",
       "        vertical-align: top;\n",
       "    }\n",
       "\n",
       "    .dataframe thead th {\n",
       "        text-align: right;\n",
       "    }\n",
       "</style>\n",
       "<table border=\"1\" class=\"dataframe\">\n",
       "  <thead>\n",
       "    <tr style=\"text-align: right;\">\n",
       "      <th></th>\n",
       "      <th>Tenure in Months</th>\n",
       "      <th>Offer</th>\n",
       "      <th>Monthly Charge</th>\n",
       "      <th>Total Charges</th>\n",
       "      <th>Internet Service</th>\n",
       "      <th>Online Security</th>\n",
       "      <th>Online Backup</th>\n",
       "      <th>Device Protection Plan</th>\n",
       "      <th>Premium Tech Support</th>\n",
       "      <th>Contract</th>\n",
       "      <th>Paperless Billing</th>\n",
       "      <th>Customer Status</th>\n",
       "    </tr>\n",
       "  </thead>\n",
       "  <tbody>\n",
       "    <tr>\n",
       "      <th>0</th>\n",
       "      <td>9</td>\n",
       "      <td>Offer B</td>\n",
       "      <td>65.6</td>\n",
       "      <td>593.30</td>\n",
       "      <td>Yes</td>\n",
       "      <td>No</td>\n",
       "      <td>Yes</td>\n",
       "      <td>No</td>\n",
       "      <td>Yes</td>\n",
       "      <td>One Year</td>\n",
       "      <td>Yes</td>\n",
       "      <td>Stayed</td>\n",
       "    </tr>\n",
       "    <tr>\n",
       "      <th>1</th>\n",
       "      <td>9</td>\n",
       "      <td>Offer B</td>\n",
       "      <td>-4.0</td>\n",
       "      <td>542.40</td>\n",
       "      <td>Yes</td>\n",
       "      <td>No</td>\n",
       "      <td>No</td>\n",
       "      <td>No</td>\n",
       "      <td>No</td>\n",
       "      <td>Month-to-Month</td>\n",
       "      <td>No</td>\n",
       "      <td>Stayed</td>\n",
       "    </tr>\n",
       "    <tr>\n",
       "      <th>2</th>\n",
       "      <td>4</td>\n",
       "      <td>Offer E</td>\n",
       "      <td>73.9</td>\n",
       "      <td>280.85</td>\n",
       "      <td>Yes</td>\n",
       "      <td>No</td>\n",
       "      <td>No</td>\n",
       "      <td>Yes</td>\n",
       "      <td>No</td>\n",
       "      <td>Month-to-Month</td>\n",
       "      <td>Yes</td>\n",
       "      <td>Churned</td>\n",
       "    </tr>\n",
       "    <tr>\n",
       "      <th>3</th>\n",
       "      <td>13</td>\n",
       "      <td>Offer D</td>\n",
       "      <td>98.0</td>\n",
       "      <td>1237.85</td>\n",
       "      <td>Yes</td>\n",
       "      <td>No</td>\n",
       "      <td>Yes</td>\n",
       "      <td>Yes</td>\n",
       "      <td>No</td>\n",
       "      <td>Month-to-Month</td>\n",
       "      <td>Yes</td>\n",
       "      <td>Churned</td>\n",
       "    </tr>\n",
       "    <tr>\n",
       "      <th>4</th>\n",
       "      <td>3</td>\n",
       "      <td>Offer B</td>\n",
       "      <td>83.9</td>\n",
       "      <td>267.40</td>\n",
       "      <td>Yes</td>\n",
       "      <td>No</td>\n",
       "      <td>No</td>\n",
       "      <td>No</td>\n",
       "      <td>Yes</td>\n",
       "      <td>Month-to-Month</td>\n",
       "      <td>Yes</td>\n",
       "      <td>Churned</td>\n",
       "    </tr>\n",
       "  </tbody>\n",
       "</table>\n",
       "</div>"
      ],
      "text/plain": [
       "   Tenure in Months    Offer  Monthly Charge  Total Charges Internet Service  \\\n",
       "0                 9  Offer B            65.6         593.30              Yes   \n",
       "1                 9  Offer B            -4.0         542.40              Yes   \n",
       "2                 4  Offer E            73.9         280.85              Yes   \n",
       "3                13  Offer D            98.0        1237.85              Yes   \n",
       "4                 3  Offer B            83.9         267.40              Yes   \n",
       "\n",
       "  Online Security Online Backup Device Protection Plan Premium Tech Support  \\\n",
       "0              No           Yes                     No                  Yes   \n",
       "1              No            No                     No                   No   \n",
       "2              No            No                    Yes                   No   \n",
       "3              No           Yes                    Yes                   No   \n",
       "4              No            No                     No                  Yes   \n",
       "\n",
       "         Contract Paperless Billing Customer Status  \n",
       "0        One Year               Yes          Stayed  \n",
       "1  Month-to-Month                No          Stayed  \n",
       "2  Month-to-Month               Yes         Churned  \n",
       "3  Month-to-Month               Yes         Churned  \n",
       "4  Month-to-Month               Yes         Churned  "
      ]
     },
     "execution_count": 16,
     "metadata": {},
     "output_type": "execute_result"
    }
   ],
   "source": [
    "churn_key_df.head()"
   ]
  },
  {
   "cell_type": "code",
   "execution_count": 17,
   "id": "cdf00fa5-4b18-46bf-aed2-1c311584216d",
   "metadata": {},
   "outputs": [
    {
     "data": {
      "text/html": [
       "<div>\n",
       "<style scoped>\n",
       "    .dataframe tbody tr th:only-of-type {\n",
       "        vertical-align: middle;\n",
       "    }\n",
       "\n",
       "    .dataframe tbody tr th {\n",
       "        vertical-align: top;\n",
       "    }\n",
       "\n",
       "    .dataframe thead th {\n",
       "        text-align: right;\n",
       "    }\n",
       "</style>\n",
       "<table border=\"1\" class=\"dataframe\">\n",
       "  <thead>\n",
       "    <tr style=\"text-align: right;\">\n",
       "      <th></th>\n",
       "      <th>Tenure in Months</th>\n",
       "      <th>Offer</th>\n",
       "      <th>Monthly Charge</th>\n",
       "      <th>Total Charges</th>\n",
       "      <th>Internet Service</th>\n",
       "      <th>Online Security</th>\n",
       "      <th>Online Backup</th>\n",
       "      <th>Device Protection Plan</th>\n",
       "      <th>Premium Tech Support</th>\n",
       "      <th>Contract</th>\n",
       "      <th>Paperless Billing</th>\n",
       "      <th>Customer Status</th>\n",
       "    </tr>\n",
       "  </thead>\n",
       "  <tbody>\n",
       "    <tr>\n",
       "      <th>817</th>\n",
       "      <td>1</td>\n",
       "      <td>Offer B</td>\n",
       "      <td>19.65</td>\n",
       "      <td>19.65</td>\n",
       "      <td>No</td>\n",
       "      <td>No</td>\n",
       "      <td>No</td>\n",
       "      <td>No</td>\n",
       "      <td>No</td>\n",
       "      <td>Month-to-Month</td>\n",
       "      <td>No</td>\n",
       "      <td>Joined</td>\n",
       "    </tr>\n",
       "    <tr>\n",
       "      <th>1676</th>\n",
       "      <td>1</td>\n",
       "      <td>Offer E</td>\n",
       "      <td>70.30</td>\n",
       "      <td>70.30</td>\n",
       "      <td>Yes</td>\n",
       "      <td>No</td>\n",
       "      <td>No</td>\n",
       "      <td>No</td>\n",
       "      <td>No</td>\n",
       "      <td>Month-to-Month</td>\n",
       "      <td>Yes</td>\n",
       "      <td>Churned</td>\n",
       "    </tr>\n",
       "    <tr>\n",
       "      <th>1761</th>\n",
       "      <td>1</td>\n",
       "      <td>Offer B</td>\n",
       "      <td>19.55</td>\n",
       "      <td>19.55</td>\n",
       "      <td>No</td>\n",
       "      <td>No</td>\n",
       "      <td>No</td>\n",
       "      <td>No</td>\n",
       "      <td>No</td>\n",
       "      <td>Month-to-Month</td>\n",
       "      <td>No</td>\n",
       "      <td>Joined</td>\n",
       "    </tr>\n",
       "    <tr>\n",
       "      <th>1794</th>\n",
       "      <td>1</td>\n",
       "      <td>Offer B</td>\n",
       "      <td>70.15</td>\n",
       "      <td>70.15</td>\n",
       "      <td>Yes</td>\n",
       "      <td>No</td>\n",
       "      <td>No</td>\n",
       "      <td>No</td>\n",
       "      <td>No</td>\n",
       "      <td>Month-to-Month</td>\n",
       "      <td>Yes</td>\n",
       "      <td>Churned</td>\n",
       "    </tr>\n",
       "    <tr>\n",
       "      <th>1829</th>\n",
       "      <td>1</td>\n",
       "      <td>Offer B</td>\n",
       "      <td>20.45</td>\n",
       "      <td>20.45</td>\n",
       "      <td>No</td>\n",
       "      <td>No</td>\n",
       "      <td>No</td>\n",
       "      <td>No</td>\n",
       "      <td>No</td>\n",
       "      <td>Month-to-Month</td>\n",
       "      <td>No</td>\n",
       "      <td>Joined</td>\n",
       "    </tr>\n",
       "  </tbody>\n",
       "</table>\n",
       "</div>"
      ],
      "text/plain": [
       "      Tenure in Months    Offer  Monthly Charge  Total Charges  \\\n",
       "817                  1  Offer B           19.65          19.65   \n",
       "1676                 1  Offer E           70.30          70.30   \n",
       "1761                 1  Offer B           19.55          19.55   \n",
       "1794                 1  Offer B           70.15          70.15   \n",
       "1829                 1  Offer B           20.45          20.45   \n",
       "\n",
       "     Internet Service Online Security Online Backup Device Protection Plan  \\\n",
       "817                No              No            No                     No   \n",
       "1676              Yes              No            No                     No   \n",
       "1761               No              No            No                     No   \n",
       "1794              Yes              No            No                     No   \n",
       "1829               No              No            No                     No   \n",
       "\n",
       "     Premium Tech Support        Contract Paperless Billing Customer Status  \n",
       "817                    No  Month-to-Month                No          Joined  \n",
       "1676                   No  Month-to-Month               Yes         Churned  \n",
       "1761                   No  Month-to-Month                No          Joined  \n",
       "1794                   No  Month-to-Month               Yes         Churned  \n",
       "1829                   No  Month-to-Month                No          Joined  "
      ]
     },
     "execution_count": 17,
     "metadata": {},
     "output_type": "execute_result"
    }
   ],
   "source": [
    "churn_key_df[churn_key_df.duplicated()].head()"
   ]
  },
  {
   "cell_type": "code",
   "execution_count": 18,
   "id": "57c4bce4-3c14-400d-87df-ebe0ca59fd7e",
   "metadata": {},
   "outputs": [],
   "source": [
    "churn_key_df.drop_duplicates(inplace = True)"
   ]
  },
  {
   "cell_type": "code",
   "execution_count": 19,
   "id": "7d6be85a-12ad-47f4-935b-c5ff92dc089c",
   "metadata": {},
   "outputs": [
    {
     "data": {
      "text/plain": [
       "(6975, 12)"
      ]
     },
     "execution_count": 19,
     "metadata": {},
     "output_type": "execute_result"
    }
   ],
   "source": [
    "churn_key_df.shape"
   ]
  },
  {
   "cell_type": "code",
   "execution_count": 20,
   "id": "54da1365-5675-4b5d-a377-203c0b8898e0",
   "metadata": {},
   "outputs": [
    {
     "name": "stdout",
     "output_type": "stream",
     "text": [
      "Distribution of Offer\n",
      "Offer\n",
      "Offer B    0.260265\n",
      "Offer E    0.254264\n",
      "Offer D    0.190145\n",
      "Offer A    0.164245\n",
      "Offer C    0.131080\n",
      "Name: proportion, dtype: float64\n",
      "\n",
      "Distribution of Internet Service\n",
      "Internet Service\n",
      "Yes    0.783331\n",
      "No     0.216669\n",
      "Name: proportion, dtype: float64\n",
      "\n",
      "Distribution of Online Security\n",
      "Online Security\n",
      "No     0.63404\n",
      "Yes    0.36596\n",
      "Name: proportion, dtype: float64\n",
      "\n",
      "Distribution of Online Backup\n",
      "Online Backup\n",
      "No     0.559724\n",
      "Yes    0.440276\n",
      "Name: proportion, dtype: float64\n",
      "\n",
      "Distribution of Device Protection Plan\n",
      "Device Protection Plan\n",
      "No     0.560993\n",
      "Yes    0.439007\n",
      "Name: proportion, dtype: float64\n",
      "\n",
      "Distribution of Premium Tech Support\n",
      "Premium Tech Support\n",
      "No     0.629509\n",
      "Yes    0.370491\n",
      "Name: proportion, dtype: float64\n",
      "\n",
      "Distribution of Contract\n",
      "Contract\n",
      "Month-to-Month    0.512566\n",
      "Two Year          0.267358\n",
      "One Year          0.220077\n",
      "Name: proportion, dtype: float64\n",
      "\n",
      "Distribution of Paperless Billing\n",
      "Paperless Billing\n",
      "Yes    0.592219\n",
      "No     0.407781\n",
      "Name: proportion, dtype: float64\n",
      "\n",
      "Distribution of Customer Status\n",
      "Customer Status\n",
      "Stayed     0.670169\n",
      "Churned    0.265370\n",
      "Joined     0.064461\n",
      "Name: proportion, dtype: float64\n",
      "\n"
     ]
    }
   ],
   "source": [
    "categorical_cols = ['Offer', 'Internet Service', 'Online Security', 'Online Backup',\n",
    "                    'Device Protection Plan', 'Premium Tech Support', 'Contract', \n",
    "                    'Paperless Billing','Customer Status']\n",
    "for col in categorical_cols:\n",
    "    print(\"Distribution of\", col)\n",
    "    print(churn_key_attributes[col].value_counts(normalize=True))\n",
    "    print()\n"
   ]
  },
  {
   "cell_type": "code",
   "execution_count": 21,
   "id": "789d3bd5-4326-4482-ae8c-ed131f3c2f66",
   "metadata": {},
   "outputs": [
    {
     "data": {
      "image/png": "[encoded data removed]",
      "text/plain": [
       "<Figure size 500x3600 with 9 Axes>"
      ]
     },
     "metadata": {},
     "output_type": "display_data"
    }
   ],
   "source": [
    "categorical_cols = ['Offer', 'Internet Service', 'Online Security', 'Online Backup',\n",
    "                    'Device Protection Plan', 'Premium Tech Support', 'Contract', \n",
    "                    'Paperless Billing','Customer Status']\n",
    "\n",
    "# Set up subplots\n",
    "fig, axes = plt.subplots(nrows=len(categorical_cols), ncols=1, figsize=(5, 4*len(categorical_cols)))\n",
    "\n",
    "# Plot proportions of each category for each categorical column\n",
    "for i, col in enumerate(categorical_cols):\n",
    "    proportions = churn_key_attributes[col].value_counts(normalize=True)\n",
    "    proportions.plot(kind='bar', ax=axes[i], color='skyblue', edgecolor='black')\n",
    "    axes[i].set_title('Distribution of ' + col)\n",
    "    axes[i].set_xlabel(col)\n",
    "    axes[i].set_ylabel('Proportion')\n",
    "\n",
    "plt.tight_layout()\n",
    "plt.show()"
   ]
  },
  {
   "cell_type": "code",
   "execution_count": 22,
   "id": "88a28652-8876-4a17-a357-fb4ae86b34b3",
   "metadata": {},
   "outputs": [
    {
     "data": {
      "text/html": [
       "<div>\n",
       "<style scoped>\n",
       "    .dataframe tbody tr th:only-of-type {\n",
       "        vertical-align: middle;\n",
       "    }\n",
       "\n",
       "    .dataframe tbody tr th {\n",
       "        vertical-align: top;\n",
       "    }\n",
       "\n",
       "    .dataframe thead th {\n",
       "        text-align: right;\n",
       "    }\n",
       "</style>\n",
       "<table border=\"1\" class=\"dataframe\">\n",
       "  <thead>\n",
       "    <tr style=\"text-align: right;\">\n",
       "      <th></th>\n",
       "      <th>Tenure in Months</th>\n",
       "      <th>Monthly Charge</th>\n",
       "      <th>Total Charges</th>\n",
       "    </tr>\n",
       "  </thead>\n",
       "  <tbody>\n",
       "    <tr>\n",
       "      <th>count</th>\n",
       "      <td>6975.000000</td>\n",
       "      <td>6975.000000</td>\n",
       "      <td>6975.000000</td>\n",
       "    </tr>\n",
       "    <tr>\n",
       "      <th>mean</th>\n",
       "      <td>32.692760</td>\n",
       "      <td>63.873692</td>\n",
       "      <td>2302.270493</td>\n",
       "    </tr>\n",
       "    <tr>\n",
       "      <th>std</th>\n",
       "      <td>24.463983</td>\n",
       "      <td>31.158276</td>\n",
       "      <td>2266.317231</td>\n",
       "    </tr>\n",
       "    <tr>\n",
       "      <th>min</th>\n",
       "      <td>1.000000</td>\n",
       "      <td>-10.000000</td>\n",
       "      <td>18.800000</td>\n",
       "    </tr>\n",
       "    <tr>\n",
       "      <th>25%</th>\n",
       "      <td>9.000000</td>\n",
       "      <td>33.600000</td>\n",
       "      <td>417.725000</td>\n",
       "    </tr>\n",
       "    <tr>\n",
       "      <th>50%</th>\n",
       "      <td>29.000000</td>\n",
       "      <td>70.200000</td>\n",
       "      <td>1414.800000</td>\n",
       "    </tr>\n",
       "    <tr>\n",
       "      <th>75%</th>\n",
       "      <td>56.000000</td>\n",
       "      <td>89.850000</td>\n",
       "      <td>3828.825000</td>\n",
       "    </tr>\n",
       "    <tr>\n",
       "      <th>max</th>\n",
       "      <td>72.000000</td>\n",
       "      <td>118.750000</td>\n",
       "      <td>8684.800000</td>\n",
       "    </tr>\n",
       "  </tbody>\n",
       "</table>\n",
       "</div>"
      ],
      "text/plain": [
       "       Tenure in Months  Monthly Charge  Total Charges\n",
       "count       6975.000000     6975.000000    6975.000000\n",
       "mean          32.692760       63.873692    2302.270493\n",
       "std           24.463983       31.158276    2266.317231\n",
       "min            1.000000      -10.000000      18.800000\n",
       "25%            9.000000       33.600000     417.725000\n",
       "50%           29.000000       70.200000    1414.800000\n",
       "75%           56.000000       89.850000    3828.825000\n",
       "max           72.000000      118.750000    8684.800000"
      ]
     },
     "execution_count": 22,
     "metadata": {},
     "output_type": "execute_result"
    }
   ],
   "source": [
    "churn_key_df.describe()"
   ]
  },
  {
   "cell_type": "code",
   "execution_count": 23,
   "id": "de7b752e-b8b1-49f8-a50c-6edc6a006e31",
   "metadata": {},
   "outputs": [],
   "source": [
    "churn_key_df = churn_key_df[churn_key_df['Monthly Charge'] > 0]"
   ]
  },
  {
   "cell_type": "code",
   "execution_count": 24,
   "id": "d0244a58-95f9-4d6b-8e36-e4c32976ec07",
   "metadata": {},
   "outputs": [
    {
     "data": {
      "text/html": [
       "<div>\n",
       "<style scoped>\n",
       "    .dataframe tbody tr th:only-of-type {\n",
       "        vertical-align: middle;\n",
       "    }\n",
       "\n",
       "    .dataframe tbody tr th {\n",
       "        vertical-align: top;\n",
       "    }\n",
       "\n",
       "    .dataframe thead th {\n",
       "        text-align: right;\n",
       "    }\n",
       "</style>\n",
       "<table border=\"1\" class=\"dataframe\">\n",
       "  <thead>\n",
       "    <tr style=\"text-align: right;\">\n",
       "      <th></th>\n",
       "      <th>Tenure in Months</th>\n",
       "      <th>Offer</th>\n",
       "      <th>Monthly Charge</th>\n",
       "      <th>Total Charges</th>\n",
       "      <th>Internet Service</th>\n",
       "      <th>Online Security</th>\n",
       "      <th>Online Backup</th>\n",
       "      <th>Device Protection Plan</th>\n",
       "      <th>Premium Tech Support</th>\n",
       "      <th>Contract</th>\n",
       "      <th>Paperless Billing</th>\n",
       "      <th>Customer Status</th>\n",
       "    </tr>\n",
       "  </thead>\n",
       "  <tbody>\n",
       "    <tr>\n",
       "      <th>0</th>\n",
       "      <td>9</td>\n",
       "      <td>Offer B</td>\n",
       "      <td>65.6</td>\n",
       "      <td>593.30</td>\n",
       "      <td>Yes</td>\n",
       "      <td>No</td>\n",
       "      <td>Yes</td>\n",
       "      <td>No</td>\n",
       "      <td>Yes</td>\n",
       "      <td>One Year</td>\n",
       "      <td>Yes</td>\n",
       "      <td>Stayed</td>\n",
       "    </tr>\n",
       "    <tr>\n",
       "      <th>2</th>\n",
       "      <td>4</td>\n",
       "      <td>Offer E</td>\n",
       "      <td>73.9</td>\n",
       "      <td>280.85</td>\n",
       "      <td>Yes</td>\n",
       "      <td>No</td>\n",
       "      <td>No</td>\n",
       "      <td>Yes</td>\n",
       "      <td>No</td>\n",
       "      <td>Month-to-Month</td>\n",
       "      <td>Yes</td>\n",
       "      <td>Churned</td>\n",
       "    </tr>\n",
       "    <tr>\n",
       "      <th>3</th>\n",
       "      <td>13</td>\n",
       "      <td>Offer D</td>\n",
       "      <td>98.0</td>\n",
       "      <td>1237.85</td>\n",
       "      <td>Yes</td>\n",
       "      <td>No</td>\n",
       "      <td>Yes</td>\n",
       "      <td>Yes</td>\n",
       "      <td>No</td>\n",
       "      <td>Month-to-Month</td>\n",
       "      <td>Yes</td>\n",
       "      <td>Churned</td>\n",
       "    </tr>\n",
       "    <tr>\n",
       "      <th>4</th>\n",
       "      <td>3</td>\n",
       "      <td>Offer B</td>\n",
       "      <td>83.9</td>\n",
       "      <td>267.40</td>\n",
       "      <td>Yes</td>\n",
       "      <td>No</td>\n",
       "      <td>No</td>\n",
       "      <td>No</td>\n",
       "      <td>Yes</td>\n",
       "      <td>Month-to-Month</td>\n",
       "      <td>Yes</td>\n",
       "      <td>Churned</td>\n",
       "    </tr>\n",
       "    <tr>\n",
       "      <th>5</th>\n",
       "      <td>9</td>\n",
       "      <td>Offer E</td>\n",
       "      <td>69.4</td>\n",
       "      <td>571.45</td>\n",
       "      <td>Yes</td>\n",
       "      <td>No</td>\n",
       "      <td>No</td>\n",
       "      <td>No</td>\n",
       "      <td>Yes</td>\n",
       "      <td>Month-to-Month</td>\n",
       "      <td>Yes</td>\n",
       "      <td>Stayed</td>\n",
       "    </tr>\n",
       "  </tbody>\n",
       "</table>\n",
       "</div>"
      ],
      "text/plain": [
       "   Tenure in Months    Offer  Monthly Charge  Total Charges Internet Service  \\\n",
       "0                 9  Offer B            65.6         593.30              Yes   \n",
       "2                 4  Offer E            73.9         280.85              Yes   \n",
       "3                13  Offer D            98.0        1237.85              Yes   \n",
       "4                 3  Offer B            83.9         267.40              Yes   \n",
       "5                 9  Offer E            69.4         571.45              Yes   \n",
       "\n",
       "  Online Security Online Backup Device Protection Plan Premium Tech Support  \\\n",
       "0              No           Yes                     No                  Yes   \n",
       "2              No            No                    Yes                   No   \n",
       "3              No           Yes                    Yes                   No   \n",
       "4              No            No                     No                  Yes   \n",
       "5              No            No                     No                  Yes   \n",
       "\n",
       "         Contract Paperless Billing Customer Status  \n",
       "0        One Year               Yes          Stayed  \n",
       "2  Month-to-Month               Yes         Churned  \n",
       "3  Month-to-Month               Yes         Churned  \n",
       "4  Month-to-Month               Yes         Churned  \n",
       "5  Month-to-Month               Yes          Stayed  "
      ]
     },
     "execution_count": 24,
     "metadata": {},
     "output_type": "execute_result"
    }
   ],
   "source": [
    "churn_key_df.head()"
   ]
  },
  {
   "cell_type": "code",
   "execution_count": 25,
   "id": "aeccff3d-6002-45eb-bc57-3ce1d88ad4c9",
   "metadata": {},
   "outputs": [
    {
     "data": {
      "image/png": "[encoded data removed]",
      "text/plain": [
       "<Figure size 1500x500 with 3 Axes>"
      ]
     },
     "metadata": {},
     "output_type": "display_data"
    }
   ],
   "source": [
    "fig, axes = plt.subplots(nrows=1, ncols=3, figsize=(15, 5))\n",
    "sns.boxplot(y='Tenure in Months', data=churn_key_df, ax=axes[0], color='skyblue')\n",
    "axes[0].set_title('Tenure in Months')\n",
    "\n",
    "sns.boxplot(y='Monthly Charge', data=churn_key_df, ax=axes[1], color='skyblue')\n",
    "axes[1].set_title('Monthly Charge')\n",
    "\n",
    "sns.boxplot(y='Total Charges', data=churn_key_df, ax=axes[2], color='skyblue')\n",
    "axes[2].set_title('Total Charges')\n",
    "\n",
    "plt.tight_layout()\n",
    "plt.show()\n"
   ]
  },
  {
   "cell_type": "code",
   "execution_count": 26,
   "id": "475d5424-864b-4b84-81b3-9f377adadfa3",
   "metadata": {},
   "outputs": [
    {
     "data": {
      "image/png": "[encoded data removed]",
      "text/plain": [
       "<Figure size 640x480 with 1 Axes>"
      ]
     },
     "metadata": {},
     "output_type": "display_data"
    }
   ],
   "source": [
    "#What is the distribution of ‘Tenure in Months’ for churned customers? \n",
    "\n",
    "plt.hist(churn_key_df['Tenure in Months'], bins=20, color='skyblue', edgecolor='black')\n",
    "plt.title('Distribution of Tenure in Months for Churned Customers')\n",
    "plt.xlabel('Tenure in Months')\n",
    "plt.ylabel('Frequency')\n",
    "plt.show()"
   ]
  },
  {
   "cell_type": "raw",
   "id": "39f4f417-f843-4b20-b3c1-166a4b27f8d3",
   "metadata": {},
   "source": [
    "The histogram suggests that a significant number of customers tend to churn within the first 10 months of their tenure, and another group tends to churn around the 60-70 month mark. This pattern could indeed impact the company’s services and lead to a loss. \n",
    "To mitigate this, the company could improve service quality, offer discounts, collect customer feedback, personalize communication, implement loyalty programs, provide proactive customer service, and offer flexible contract terms."
   ]
  },
  {
   "cell_type": "code",
   "execution_count": 27,
   "id": "e0038618-ef7b-4111-9705-e474f846df97",
   "metadata": {},
   "outputs": [
    {
     "name": "stdout",
     "output_type": "stream",
     "text": [
      "Internet Service\n",
      "No     32.213845\n",
      "Yes    55.800593\n",
      "Name: Contract, dtype: float64\n"
     ]
    }
   ],
   "source": [
    "#What is the churn rate by ‘Internet Service’ type?\n",
    "churn_rate_by_internet_service = churn_key_df.groupby('Internet Service')['Contract'].apply(lambda x: (x == 'Month-to-Month').mean())\n",
    "print(churn_rate_by_internet_service*100)"
   ]
  },
  {
   "cell_type": "raw",
   "id": "5946f48a-8f60-4725-bdf6-474bfdda0727",
   "metadata": {},
   "source": [
    "The output suggests that the churn rate is different for customers based on whether they have an ‘Internet Service’ or not. Specifically, customers who have an ‘Internet Service’ (Yes) have a higher churn rate of approximately 55.7%, while those who do not have an ‘Internet Service’ (No) have a lower churn rate of approximately 31.4%. This could indicate that customers with an ‘Internet Service’ are more likely to have a ‘Month-to-Month’ contract and thus more likely to churn. Therefore, the company might want to investigate further into the services provided and customer satisfaction among those who have an ‘Internet Service’."
   ]
  },
  {
   "cell_type": "code",
   "execution_count": 28,
   "id": "81710802-ccd1-4af9-892d-ed74bd8f2fec",
   "metadata": {},
   "outputs": [
    {
     "name": "stdout",
     "output_type": "stream",
     "text": [
      "Online Security\n",
      "No     0.580612\n",
      "Yes    0.329305\n",
      "Name: Contract, dtype: float64\n"
     ]
    }
   ],
   "source": [
    "# Calculate churn rate for customers with and without online security\n",
    "churn_rate_by_online_security = churn_key_df.groupby('Online Security')['Contract'].apply(lambda x: (x == 'Month-to-Month').mean())\n",
    "print(churn_rate_by_online_security)\n"
   ]
  },
  {
   "cell_type": "raw",
   "id": "2bbbc27a-c92f-4293-befb-ebbf5f5fe78c",
   "metadata": {},
   "source": [
    "The output suggests that customers without ‘Online Security’ have a higher churn rate (approximately 57.8%) compared to those with ‘Online Security’ (approximately 32.9%). Therefore, the company could consider promoting the benefits of ‘Online Security’ to customers, as it appears to be a significant factor in customer retention."
   ]
  },
  {
   "cell_type": "code",
   "execution_count": 29,
   "id": "51a23257-069e-46f8-b9bc-d1832ba20f90",
   "metadata": {},
   "outputs": [
    {
     "name": "stdout",
     "output_type": "stream",
     "text": [
      "Contract\n",
      "Month-to-Month    1.0\n",
      "One Year          0.0\n",
      "Two Year          0.0\n",
      "Name: Contract, dtype: float64\n"
     ]
    }
   ],
   "source": [
    "# Calculate churn rate by contract type\n",
    "churn_rate_by_contract = churn_key_df.groupby('Contract')['Contract'].apply(lambda x: (x == 'Month-to-Month').mean())\n",
    "print(churn_rate_by_contract)\n"
   ]
  },
  {
   "cell_type": "raw",
   "id": "e96cc076-03c2-4794-a0a5-06c23857bab7",
   "metadata": {},
   "source": [
    "The churn analysis suggests that customers with a ‘Month-to-Month’ contract are more likely to churn, while those with ‘One Year’ or ‘Two Year’ contracts are less likely to churn. Therefore, the company could consider strategies such as promoting longer-term contracts and improving service quality to reduce customer churn"
   ]
  },
  {
   "cell_type": "code",
   "execution_count": 30,
   "id": "55127be2-9363-471e-8223-aa84d46bb0aa",
   "metadata": {},
   "outputs": [
    {
     "name": "stdout",
     "output_type": "stream",
     "text": [
      "Paperless Billing\n",
      "No     41.741634\n",
      "Yes    56.943081\n",
      "Name: Contract, dtype: float64\n"
     ]
    }
   ],
   "source": [
    "# Calculate churn rate for customers with and without paperless billing\n",
    "churn_rate_by_paperless_billing = churn_key_df.groupby('Paperless Billing')['Contract'].apply(lambda x: (x == 'Month-to-Month').mean())\n",
    "print(churn_rate_by_paperless_billing*100)\n"
   ]
  },
  {
   "cell_type": "raw",
   "id": "74e02090-489b-42a6-a95a-a33c53167ee9",
   "metadata": {},
   "source": [
    "The output suggests that customers who use ‘Paperless Billing’ have a higher churn rate (approximately 56.83%) compared to those who do not use ‘Paperless Billing’ (approximately 41.38%). Therefore, the company could consider improving the user experience of their ‘Paperless Billing’ system or provide additional support and education about its benefits to reduce churn among these customers"
   ]
  },
  {
   "cell_type": "code",
   "execution_count": 31,
   "id": "3b06c273-7645-410b-b0fb-3b84fa298d22",
   "metadata": {},
   "outputs": [],
   "source": [
    "# churn_key_df.to_csv('churn_df.csv', sep=',', index=False, encoding='utf-8')"
   ]
  },
  {
   "cell_type": "markdown",
   "id": "49cc59f2-fb87-4989-a22e-8ec6eb55adf0",
   "metadata": {},
   "source": [
    "<h4>Statiscal testing</h4>\n",
    "\n",
    "<h5>Hypothesis for 'Internet Service' and 'Online Security':</h5>\n",
    "Null Hypothesis (H0): There is no association between the type of Internet service and the presence of online security with customer churn.\n",
    "\n",
    "Alternative Hypothesis (H1): The type of Internet service and the presence of online security are associated with customer churn.\n",
    "\n",
    "\n",
    "<h5>Hypothesis for 'Contract' and 'Monthly Charge':</h5>\n",
    "Null Hypothesis (H0): There is no difference in churn rates between customers with different types of contracts (e.g., month-to-month, one year, two years).\n",
    "Alternative Hypothesis (H1): There is a difference in churn rates between customers with different types of contracts.\n",
    "\n",
    "\n",
    "<h5>Hypothesis for 'Paperless Billing' and 'Total Charges':</h5>\n",
    "Null Hypothesis (H0): There is no difference in churn rates between customers with paperless billing and those without paperless billing.\n",
    "\n",
    "Alternative Hypothesis (H1): There is a difference in churn rates between customers with paperless billing and those without paperless billing."
   ]
  },
  {
   "cell_type": "code",
   "execution_count": 73,
   "id": "57ca964f-90a7-4a9c-99d1-1d0527a2ac5c",
   "metadata": {},
   "outputs": [
    {
     "data": {
      "text/plain": [
       "Index(['Tenure in Months', 'Offer', 'Monthly Charge', 'Total Charges',\n",
       "       'Internet Service', 'Online Security', 'Online Backup',\n",
       "       'Device Protection Plan', 'Premium Tech Support', 'Contract',\n",
       "       'Paperless Billing', 'Customer Status'],\n",
       "      dtype='object')"
      ]
     },
     "execution_count": 73,
     "metadata": {},
     "output_type": "execute_result"
    }
   ],
   "source": [
    "churn_key_df.columns"
   ]
  },
  {
   "cell_type": "code",
   "execution_count": 74,
   "id": "281debee-e207-495d-869f-439385ec3a06",
   "metadata": {},
   "outputs": [
    {
     "name": "stdout",
     "output_type": "stream",
     "text": [
      "Chi-squared test p-value: 4.8333107992939134e-166\n",
      "ANOVA p-value: 5.8210914460601094e-05\n",
      "Independent Samples t-test p-value: 8.151755509732381e-42\n",
      "Mann-Whitney U Test p-value: 3.922850207948875e-36\n"
     ]
    }
   ],
   "source": [
    "from scipy.stats import chi2_contingency, f_oneway, ttest_ind, mannwhitneyu\n",
    "\n",
    "# Hypothesis 1: Chi-squared Test of Independence for 'Internet Service' and 'Online Security'\n",
    "contingency_table = pd.crosstab(churn_key_df['Internet Service'], churn_key_df['Online Security'])\n",
    "chi2, p, _, _ = chi2_contingency(contingency_table)\n",
    "print(\"Chi-squared test p-value:\", p)\n",
    "\n",
    "# Hypothesis 2: Analysis of Variance (ANOVA) for 'Contract' and 'Monthly Charge'\n",
    "anova_results = f_oneway(churn_key_df[churn_key_df['Contract'] == 'Month-to-Month']['Monthly Charge'],\n",
    "                         churn_key_df[churn_key_df['Contract'] == 'One Year']['Monthly Charge'],\n",
    "                         churn_key_df[churn_key_df['Contract'] == 'Two Year']['Monthly Charge'])\n",
    "print(\"ANOVA p-value:\", anova_results.pvalue)\n",
    "\n",
    "# Hypothesis 3: Independent Samples t-test or Mann-Whitney U Test for 'Paperless Billing' and 'Total Charges'\n",
    "group1 = churn_key_df[churn_key_df['Paperless Billing'] == 'Yes']['Total Charges']\n",
    "group2 = churn_key_df[churn_key_df['Paperless Billing'] == 'No']['Total Charges']\n",
    "t_test_result = ttest_ind(group1, group2, equal_var=False)  # Independent Samples t-test\n",
    "mannwhitneyu_result = mannwhitneyu(group1, group2)  # Mann-Whitney U Test\n",
    "\n",
    "print(\"Independent Samples t-test p-value:\", t_test_result.pvalue)\n",
    "print(\"Mann-Whitney U Test p-value:\", mannwhitneyu_result.pvalue)\n"
   ]
  },
  {
   "cell_type": "code",
   "execution_count": 34,
   "id": "48f549b2-51cc-464e-845d-b2b80544bd51",
   "metadata": {},
   "outputs": [
    {
     "name": "stdout",
     "output_type": "stream",
     "text": [
      "Contingency Table:\n",
      "Internet Service    No   Yes\n",
      "Customer Status             \n",
      "Churned            100  1703\n",
      "Joined             149   267\n",
      "Stayed            1210  3426\n",
      "\n",
      "Chi-square statistic: 383.1704294341026\n",
      "P-value: 6.245949005288737e-84\n",
      "\n",
      "There is a significant association between 'Customer Status' and 'Internet Service'.\n"
     ]
    }
   ],
   "source": [
    "import pandas as pd\n",
    "from scipy.stats import chi2_contingency\n",
    "\n",
    "contingency_table = pd.crosstab(churn_key_df['Customer Status'], churn_key_df['Internet Service'])  \n",
    "\n",
    "# Print the contingency table\n",
    "print(\"Contingency Table:\")\n",
    "print(contingency_table)\n",
    "print()\n",
    "\n",
    "# Perform the Chi-square test of independence\n",
    "chi2, p_value, _, _ = chi2_contingency(contingency_table)\n",
    "\n",
    "# Print the results\n",
    "print(\"Chi-square statistic:\", chi2)\n",
    "print(\"P-value:\", p_value)\n",
    "print()\n",
    "\n",
    "alpha = 0.05  \n",
    "if p_value < alpha:\n",
    "    print(\"There is a significant association between 'Customer Status' and 'Internet Service'.\")\n",
    "else:\n",
    "    print(\"There is no significant association between 'Customer Status' and 'Internet Service'.\")\n"
   ]
  },
  {
   "cell_type": "raw",
   "id": "a099c80c-bf1f-4435-8ae1-f48b0693c03c",
   "metadata": {},
   "source": [
    "The type of Internet service and the presence of online security are significantly associated with customer churn, as evidenced by a Chi-squared test p-value of approximately 1.37e-164.\n",
    "\n",
    "There is a significant difference in churn rates between customers with different types of contracts. This is supported by an ANOVA p-value of approximately 1.72e-05.\n",
    "\n",
    "There is a significant difference in churn rates between customers with paperless billing and those without. This is confirmed by both an Independent Samples t-test p-value of approximately 3.85e-41 and a Mann-Whitney U Test p-value of approximately 3.61e-35.\n",
    "\n",
    "There is significant difference in churn rates between customers status and internet service. This is supported by chi-square test p-value of 6.24e-84.\n",
    "\n",
    "In conclusion, all three factors - the type of Internet service, the presence of online security, and the type of contract - are statistically significant predictors of customer churn."
   ]
  },
  {
   "cell_type": "markdown",
   "id": "6f54df7d-b36f-4c41-9e1a-3d2b53b7c95b",
   "metadata": {},
   "source": [
    "<h4>Conclusion</h4>\n",
    "In the historical data, the distribution of customer status indicates that a majority of customers remained with the service, with only a small proportion churning or joining. Analysis reveals that several factors strongly influence customer churn within the telecommunications company. Specifically, the type of Internet service, presence of online security, and type of contract are all statistically significant predictors of churn. Customers with certain types of Internet service, lack of online security, or specific contract types are more likely to churn compared to others.\n",
    "\n",
    "To mitigate churn rates in the future, the company could consider implementing the following strategies:\n",
    "\n",
    "<h5>Enhance Internet Service Offerings:</h5>Improve the quality and variety of Internet service options to meet the diverse needs of customers. This could involve upgrading infrastructure, increasing bandwidth, or introducing new technologies.\n",
    "\n",
    "<h5>Strengthen Online Security Measures:</h5>Invest in robust online security features to instill confidence in customers regarding the safety of their data and online interactions. Implementing advanced security protocols and offering additional security services could help retain customers concerned about privacy and protection.\n",
    "\n",
    "<h5>Tailor Contract Options:</h5>Provide flexible contract options tailored to individual customer preferences and usage patterns. Offering customizable contract terms, discounts, or loyalty incentives may incentivize customers to stay with the company for longer periods.\n",
    "\n",
    "<h5>Streamline Paperless Billing Processes:</h5>Simplify and optimize the paperless billing experience to encourage more customers to adopt this convenient payment method. Improving billing transparency, providing automated payment reminders, and offering discounts for paperless billing can incentivize customers to switch to electronic billing methods.\n",
    "<br></br>\n",
    "By strategically addressing these key factors identified through data analysis, the telecommunications company can proactively mitigate churn rates and foster greater customer retention in the future."
   ]
  },
  {
   "cell_type": "code",
   "execution_count": null,
   "id": "fee3fdf7-a168-43ad-9328-7659650e68bc",
   "metadata": {},
   "outputs": [],
   "source": []
  }
 ],
 "metadata": {
  "kernelspec": {
   "display_name": "Python 3 (ipykernel)",
   "language": "python",
   "name": "python3"
  },
  "language_info": {
   "codemirror_mode": {
    "name": "ipython",
    "version": 3
   },
   "file_extension": ".py",
   "mimetype": "text/x-python",
   "name": "python",
   "nbconvert_exporter": "python",
   "pygments_lexer": "ipython3",
   "version": "3.11.5"
  }
 },
 "nbformat": 4,
 "nbformat_minor": 5
}
